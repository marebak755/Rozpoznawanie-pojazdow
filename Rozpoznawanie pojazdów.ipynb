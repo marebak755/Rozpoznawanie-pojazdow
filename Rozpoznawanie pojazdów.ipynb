{
  "cells": [
    {
      "cell_type": "code",
      "execution_count": null,
      "metadata": {
        "id": "ZDn0bWnEyY_t"
      },
      "outputs": [],
      "source": [
        "# Pobranie katalogu yolov5\n",
        "#!git clone https://github.com/ultralytics/yolov5 \n",
        "%pip install -r requirements.txt\n",
        "\n",
        "import torch\n",
        "import utils\n",
        "\n",
        "display = utils.notebook_init()"
      ]
    },
    {
      "cell_type": "code",
      "execution_count": null,
      "metadata": {
        "colab": {
          "base_uri": "https://localhost:8080/",
          "height": 176
        },
        "id": "WQPtK1QYVaD_",
        "outputId": "341d60fe-f34c-456f-cdd4-02154f9a4b81"
      },
      "outputs": [],
      "source": [
        "# Pobranie zbioru danych\n",
        "torch.hub.download_url_to_file('https://universe.roboflow.com/ds/527YOjkr7I?key=u8ay8zAI3n', 'tmp.zip')"
      ]
    },
    {
      "cell_type": "code",
      "execution_count": null,
      "metadata": {
        "colab": {
          "base_uri": "https://localhost:8080/"
        },
        "id": "1NcFxRcFdJ_O",
        "outputId": "8c9baea2-62cf-464e-c346-bbcb9bbe969d"
      },
      "outputs": [],
      "source": [
        "# Trenowanie danych\n",
        "!python train.py --img 640 --batch 32  --epochs 100 --data car_data.yaml --weights weights/yolov5s.pt --workers 0 --cache --name yolov5s_b32_e100_car_det"
      ]
    },
    {
      "cell_type": "code",
      "execution_count": 4,
      "metadata": {
        "id": "zR9ZbuQCH7FX"
      },
      "outputs": [
        {
          "name": "stderr",
          "output_type": "stream",
          "text": [
            "\u001b[34m\u001b[1mdetect: \u001b[0mweights=['runs/train/yolov5s_b32_e100_car_det2/weights/best.pt'], source=datasets/car_dataset/test/images/, data=data\\coco128.yaml, imgsz=[640, 640], conf_thres=0.25, iou_thres=0.45, max_det=1000, device=, view_img=False, save_txt=True, save_csv=False, save_conf=False, save_crop=False, nosave=False, classes=None, agnostic_nms=False, augment=False, visualize=False, update=False, project=runs\\detect, name=yolov5s_b32_e100_car_det_test, exist_ok=False, line_thickness=3, hide_labels=False, hide_conf=False, half=False, dnn=False, vid_stride=1\n",
            "YOLOv5  v7.0-299-gb5dd11e9 Python-3.10.13 torch-2.2.1 CUDA:0 (NVIDIA GeForce GTX 1060 6GB, 6144MiB)\n",
            "\n",
            "Fusing layers... \n",
            "Model summary: 157 layers, 7012822 parameters, 0 gradients, 15.8 GFLOPs\n",
            "image 1/178 F:\\Magisterka\\yolov5\\datasets\\car_dataset\\test\\images\\-046E9840-F025-4749-B3AB-19402B34E739-png_jpg.rf.ecd3ab13244b16abce2f822db75021ac.jpg: 640x640 1 car, 14.1ms\n",
            "image 2/178 F:\\Magisterka\\yolov5\\datasets\\car_dataset\\test\\images\\-0573F94C-289D-4503-A571-94C6C8C5674C-png_jpg.rf.810d58deb0aa07254b33940b2c7490ab.jpg: 640x640 1 car, 14.1ms\n",
            "image 3/178 F:\\Magisterka\\yolov5\\datasets\\car_dataset\\test\\images\\-0585CFA0-7CD6-45D3-B7EB-1A109425F90D-png_jpg.rf.579e100c952f44ec1572d5e473039055.jpg: 640x640 1 car, 12.7ms\n",
            "image 4/178 F:\\Magisterka\\yolov5\\datasets\\car_dataset\\test\\images\\-0FB0E465-1451-4618-84CD-1A1A88293B08-png_jpg.rf.448b4abdef5a350a2448e584dba16013.jpg: 640x640 1 car, 12.5ms\n",
            "image 5/178 F:\\Magisterka\\yolov5\\datasets\\car_dataset\\test\\images\\-11F0AF93-D3D0-4415-A4A0-B3430EA0886B-png_jpg.rf.7305c253e2cbaadcdfe304669f2109b8.jpg: 640x640 1 car, 14.0ms\n",
            "image 6/178 F:\\Magisterka\\yolov5\\datasets\\car_dataset\\test\\images\\-13AD8372-CDDB-4DCF-B8F9-DC10D210064B-png_jpg.rf.8c1baf32a1b26d6739f1e551df65e3f6.jpg: 640x640 1 car, 13.5ms\n",
            "image 7/178 F:\\Magisterka\\yolov5\\datasets\\car_dataset\\test\\images\\-1719DE15-BCDC-404A-8470-386AAD8717B4-png_jpg.rf.d0245b19d759e80177dd797b5a2db2d1.jpg: 640x640 1 car, 13.0ms\n",
            "image 8/178 F:\\Magisterka\\yolov5\\datasets\\car_dataset\\test\\images\\-18994A3D-5086-4626-9746-C209358A65CC-png_jpg.rf.5b7f2fb57cef4a02db34c9a290ed5325.jpg: 640x640 1 car, 13.7ms\n",
            "image 9/178 F:\\Magisterka\\yolov5\\datasets\\car_dataset\\test\\images\\-192C4A31-07E9-4438-9D0D-63CF545747C8-png_jpg.rf.b111b0ab07f4868e493ec0f7679e7326.jpg: 640x640 1 car, 14.0ms\n",
            "image 10/178 F:\\Magisterka\\yolov5\\datasets\\car_dataset\\test\\images\\-1EE5CA55-C89F-4985-8D4E-A56DBD1A1E96-png_jpg.rf.80c7e57e76e874765ccc0e0350c230b9.jpg: 640x640 1 car, 12.0ms\n",
            "image 11/178 F:\\Magisterka\\yolov5\\datasets\\car_dataset\\test\\images\\-1EE5CA55-C89F-4985-8D4E-A56DBD1A1E96-png_jpg.rf.ece5b45e21426250c3037abc3ebbaa09.jpg: 640x640 1 car, 11.1ms\n",
            "image 12/178 F:\\Magisterka\\yolov5\\datasets\\car_dataset\\test\\images\\-1F999A49-2799-4FBC-811D-D10A165F8B02-png_jpg.rf.a24669ff0deb2f773520de5ebb77a2ab.jpg: 640x640 1 car, 11.2ms\n",
            "image 13/178 F:\\Magisterka\\yolov5\\datasets\\car_dataset\\test\\images\\-2229E395-534F-4F69-9F9B-80628BD8D5AC-png_jpg.rf.6ef59af1cf081e0d5e3b199f1ba7c212.jpg: 640x640 1 car, 11.1ms\n",
            "image 14/178 F:\\Magisterka\\yolov5\\datasets\\car_dataset\\test\\images\\-2526BBBE-6B96-49DC-94B9-880E133FA549-png_jpg.rf.12c60ad212c9ee2a1514cc0202b4590e.jpg: 640x640 1 car, 12.2ms\n",
            "image 15/178 F:\\Magisterka\\yolov5\\datasets\\car_dataset\\test\\images\\-2526BBBE-6B96-49DC-94B9-880E133FA549-png_jpg.rf.cec2ed183b0f31178478a3afb40d7e83.jpg: 640x640 1 car, 11.4ms\n",
            "image 16/178 F:\\Magisterka\\yolov5\\datasets\\car_dataset\\test\\images\\-25B75F91-9590-4B9D-A441-755612305E00-png_jpg.rf.02c2098101c77932fe1da60f1a553c67.jpg: 640x640 1 car, 11.7ms\n",
            "image 17/178 F:\\Magisterka\\yolov5\\datasets\\car_dataset\\test\\images\\-26D423C9-C9F8-4CA3-B49E-3664225FB20C-png_jpg.rf.873aa773919a4d54f4382258bbd10e2d.jpg: 640x640 1 car, 11.6ms\n",
            "image 18/178 F:\\Magisterka\\yolov5\\datasets\\car_dataset\\test\\images\\-2B9B8378-CF94-4121-9F57-AA504E361DEC-png_jpg.rf.60636fb199c1c771075357d313015c3c.jpg: 640x640 1 car, 11.6ms\n",
            "image 19/178 F:\\Magisterka\\yolov5\\datasets\\car_dataset\\test\\images\\-2B9B8378-CF94-4121-9F57-AA504E361DEC-png_jpg.rf.7c5e3b74714bf5ad7236011f9033a2ba.jpg: 640x640 1 car, 11.1ms\n",
            "image 20/178 F:\\Magisterka\\yolov5\\datasets\\car_dataset\\test\\images\\-3130BF7E-8143-44C3-AC0D-8068C9108560-png_jpg.rf.46c01772b78ed1a034b60a7b8c6131c5.jpg: 640x640 1 car, 12.1ms\n",
            "image 21/178 F:\\Magisterka\\yolov5\\datasets\\car_dataset\\test\\images\\-332D2462-631E-4F9D-914E-9EA5A217A8FA-png_jpg.rf.4a2612203cc2b210d8cc59c9ad8acdb6.jpg: 640x640 1 car, 11.2ms\n",
            "image 22/178 F:\\Magisterka\\yolov5\\datasets\\car_dataset\\test\\images\\-3372F3CB-7432-4FE7-B9BB-DFB5D1FC3CD4-png_jpg.rf.ddb02caeeb43e2995b007b89f4924055.jpg: 640x640 1 car, 12.5ms\n",
            "image 23/178 F:\\Magisterka\\yolov5\\datasets\\car_dataset\\test\\images\\-341F28F4-B515-475F-8729-F40EFDDDF0C2-png_jpg.rf.67ffc338512a623d967ac7705c5999db.jpg: 640x640 1 car, 11.3ms\n",
            "image 24/178 F:\\Magisterka\\yolov5\\datasets\\car_dataset\\test\\images\\-344A5C5C-CF3A-48B7-BE2F-7373A99B6465-png_jpg.rf.4273039e6b2fbbcbd18a8acbce864632.jpg: 640x640 1 car, 10.6ms\n",
            "image 25/178 F:\\Magisterka\\yolov5\\datasets\\car_dataset\\test\\images\\-34F32050-177B-401D-9CF6-16C2CE5878F3-png_jpg.rf.667e6518614f5794db5aeaa467d82a0b.jpg: 640x640 1 car, 11.7ms\n",
            "image 26/178 F:\\Magisterka\\yolov5\\datasets\\car_dataset\\test\\images\\-35C8F869-003E-4989-ADF3-F79D890A8FE4-png_jpg.rf.198e617b44aa170f00d0b81de3c4fde7.jpg: 640x640 1 car, 12.6ms\n",
            "image 27/178 F:\\Magisterka\\yolov5\\datasets\\car_dataset\\test\\images\\-375329E9-678F-4B48-AED2-472A7ED60D19-png_jpg.rf.4434d9b29356e4803b38a7557ca19ece.jpg: 640x640 1 car, 12.2ms\n",
            "image 28/178 F:\\Magisterka\\yolov5\\datasets\\car_dataset\\test\\images\\-375329E9-678F-4B48-AED2-472A7ED60D19-png_jpg.rf.76fb797daf0157ff3ce88283788f0a8b.jpg: 640x640 1 car, 10.5ms\n",
            "image 29/178 F:\\Magisterka\\yolov5\\datasets\\car_dataset\\test\\images\\-375329E9-678F-4B48-AED2-472A7ED60D19-png_jpg.rf.e76ee0c269199dee82d44a60fec9b425.jpg: 640x640 1 car, 11.7ms\n",
            "image 30/178 F:\\Magisterka\\yolov5\\datasets\\car_dataset\\test\\images\\-37621770-EA10-4509-962F-29AD0F6F09D8-png_jpg.rf.4043eeced0fc201d75a184bee3df9987.jpg: 640x640 1 car, 12.3ms\n",
            "image 31/178 F:\\Magisterka\\yolov5\\datasets\\car_dataset\\test\\images\\-3827C0BE-B55D-4ADE-9938-9DC7D50A32DD-png_jpg.rf.fc2d5bbeabc8dd613ec1f63090aee070.jpg: 640x640 1 car, 11.8ms\n",
            "image 32/178 F:\\Magisterka\\yolov5\\datasets\\car_dataset\\test\\images\\-3B056DBB-3097-4BCB-A38A-F66FA7470A6C-png_jpg.rf.1fd1c24d50782f28154388800b7713fb.jpg: 640x640 1 car, 11.2ms\n",
            "image 33/178 F:\\Magisterka\\yolov5\\datasets\\car_dataset\\test\\images\\-3B056DBB-3097-4BCB-A38A-F66FA7470A6C-png_jpg.rf.335093ce4838cd48d9cf62258fea2cd8.jpg: 640x640 1 car, 12.7ms\n",
            "image 34/178 F:\\Magisterka\\yolov5\\datasets\\car_dataset\\test\\images\\-3B54DE29-3BCA-4191-A23E-003270236E01-png_jpg.rf.90995e7c72f0b452f8a35e9345e92f26.jpg: 640x640 1 car, 13.0ms\n",
            "image 35/178 F:\\Magisterka\\yolov5\\datasets\\car_dataset\\test\\images\\-3CE149A4-29C8-4710-8B76-E45719A9E65F-png_jpg.rf.362931326faf1e8b299a8db924047a81.jpg: 640x640 1 car, 12.1ms\n",
            "image 36/178 F:\\Magisterka\\yolov5\\datasets\\car_dataset\\test\\images\\-3CE149A4-29C8-4710-8B76-E45719A9E65F-png_jpg.rf.6bc136562fbda185aae83d34e3caf0ac.jpg: 640x640 1 car, 12.0ms\n",
            "image 37/178 F:\\Magisterka\\yolov5\\datasets\\car_dataset\\test\\images\\-3CE149A4-29C8-4710-8B76-E45719A9E65F-png_jpg.rf.f74a35c194c944282ac5b2e7735219a3.jpg: 640x640 1 car, 12.6ms\n",
            "image 38/178 F:\\Magisterka\\yolov5\\datasets\\car_dataset\\test\\images\\-3D578705-6794-4049-BF6D-A828FC4F0722-png_jpg.rf.20502611cf304f7a7798a0f18f6dcc31.jpg: 640x640 1 car, 12.1ms\n",
            "image 39/178 F:\\Magisterka\\yolov5\\datasets\\car_dataset\\test\\images\\-3D578705-6794-4049-BF6D-A828FC4F0722-png_jpg.rf.9ca528f849c07bbb51710bc58c09e788.jpg: 640x640 1 car, 13.1ms\n",
            "image 40/178 F:\\Magisterka\\yolov5\\datasets\\car_dataset\\test\\images\\-3D578705-6794-4049-BF6D-A828FC4F0722-png_jpg.rf.d5fd2e147143f553ca4d0ad049fb0b85.jpg: 640x640 1 car, 12.1ms\n",
            "image 41/178 F:\\Magisterka\\yolov5\\datasets\\car_dataset\\test\\images\\-431A51B8-216A-4491-8839-72DCD54029AD-png_jpg.rf.561b3f4f39cf4a8e6cc0971cb7dc349f.jpg: 640x640 3 cars, 11.9ms\n",
            "image 42/178 F:\\Magisterka\\yolov5\\datasets\\car_dataset\\test\\images\\-44DB40B6-D520-4654-A07D-E87A49846F12-png_jpg.rf.8452b8d68feabcbb3f790367f0d2ca1f.jpg: 640x640 1 car, 12.0ms\n",
            "image 43/178 F:\\Magisterka\\yolov5\\datasets\\car_dataset\\test\\images\\-469593C2-4B3A-4A0B-B78A-24B4A79CCC35-png_jpg.rf.06182ab695f148c03b3f1450977bffce.jpg: 640x640 1 car, 12.2ms\n",
            "image 44/178 F:\\Magisterka\\yolov5\\datasets\\car_dataset\\test\\images\\-469593C2-4B3A-4A0B-B78A-24B4A79CCC35-png_jpg.rf.1fef39f6ab2aae565776169862d440c5.jpg: 640x640 1 car, 12.6ms\n",
            "image 45/178 F:\\Magisterka\\yolov5\\datasets\\car_dataset\\test\\images\\-48CC7018-725B-4547-B690-F5BE19F7A7B8-png_jpg.rf.c2cbb9cf9ce603a485bd2324bf6a849c.jpg: 640x640 1 car, 11.1ms\n",
            "image 46/178 F:\\Magisterka\\yolov5\\datasets\\car_dataset\\test\\images\\-4C46AFBE-4FFB-4612-923E-76294EF2233B-png_jpg.rf.4b23bf220e0c81c539d8f9b3dee5ecf5.jpg: 640x640 2 cars, 12.1ms\n",
            "image 47/178 F:\\Magisterka\\yolov5\\datasets\\car_dataset\\test\\images\\-4DFF09F8-2283-495F-9C84-6A25870884F8-png_jpg.rf.3ec7f91f9fffe396918779356c93de47.jpg: 640x640 3 cars, 12.5ms\n",
            "image 48/178 F:\\Magisterka\\yolov5\\datasets\\car_dataset\\test\\images\\-4DFF09F8-2283-495F-9C84-6A25870884F8-png_jpg.rf.dbff420e6cc3fb51b017c47909f3ca14.jpg: 640x640 3 cars, 11.2ms\n",
            "image 49/178 F:\\Magisterka\\yolov5\\datasets\\car_dataset\\test\\images\\-50C76EC2-B514-4A65-ABA6-5BAF8A6015B7-png_jpg.rf.acb294f14440cf9c2899ebf10a5d5297.jpg: 640x640 1 car, 11.1ms\n",
            "image 50/178 F:\\Magisterka\\yolov5\\datasets\\car_dataset\\test\\images\\-526B0491-0C42-4F0F-A201-ECFD6ED3DD6E-png_jpg.rf.f825727f3842f2f3e2d203d5634acd69.jpg: 640x640 1 car, 11.8ms\n",
            "image 51/178 F:\\Magisterka\\yolov5\\datasets\\car_dataset\\test\\images\\-5273059D-9AB0-4D26-B042-322F7A5E4CCD-png_jpg.rf.74c256ceb6dc1818cb41e878ceb92535.jpg: 640x640 1 car, 12.2ms\n",
            "image 52/178 F:\\Magisterka\\yolov5\\datasets\\car_dataset\\test\\images\\-5273059D-9AB0-4D26-B042-322F7A5E4CCD-png_jpg.rf.82afd93e2702900ac3933a084e9e2844.jpg: 640x640 1 car, 11.7ms\n",
            "image 53/178 F:\\Magisterka\\yolov5\\datasets\\car_dataset\\test\\images\\-531F9D36-6096-4999-B709-28F1E5F38DFE-png_jpg.rf.2d8e902641d946bca95e0ba057e10f4e.jpg: 640x640 1 car, 11.7ms\n",
            "image 54/178 F:\\Magisterka\\yolov5\\datasets\\car_dataset\\test\\images\\-53C40FB0-F866-4F4A-A410-D32C65C75BB4-png_jpg.rf.42e44495dad5b75efcf9e11b6c68da9c.jpg: 640x640 2 cars, 12.1ms\n",
            "image 55/178 F:\\Magisterka\\yolov5\\datasets\\car_dataset\\test\\images\\-560B3012-6E26-4551-A44C-6F4AB53B707E-png_jpg.rf.11ea22233a2f53c4aac71a9e8d0dfef9.jpg: 640x640 1 car, 11.1ms\n",
            "image 56/178 F:\\Magisterka\\yolov5\\datasets\\car_dataset\\test\\images\\-560FDA71-D338-4454-BC81-857A74DE813D-png_jpg.rf.76834261ab2896b3cb78b79a9f206c63.jpg: 640x640 1 car, 13.7ms\n",
            "image 57/178 F:\\Magisterka\\yolov5\\datasets\\car_dataset\\test\\images\\-5B95F32A-2281-4DBE-95B0-1B199E9778AF-png_jpg.rf.55406e6c954bcceed44e5e23d7837582.jpg: 640x640 1 car, 12.1ms\n",
            "image 58/178 F:\\Magisterka\\yolov5\\datasets\\car_dataset\\test\\images\\-5C9472C7-6F7B-45B6-A2F4-0CE739421A98-png_jpg.rf.5d58ceeaa3b6eef1f700b0d52dfeb880.jpg: 640x640 1 car, 12.8ms\n",
            "image 59/178 F:\\Magisterka\\yolov5\\datasets\\car_dataset\\test\\images\\-5E037376-5D27-4953-9841-0083E8D06D0B-png_jpg.rf.d375c28ad6d4344db75c971ee1cdd99e.jpg: 640x640 1 car, 12.6ms\n",
            "image 60/178 F:\\Magisterka\\yolov5\\datasets\\car_dataset\\test\\images\\-5F381E05-B9B8-4054-8444-EFE81AA4B78C-png_jpg.rf.f66953cf5ee08d912c1bb4212a3d21b4.jpg: 640x640 1 car, 12.6ms\n",
            "image 61/178 F:\\Magisterka\\yolov5\\datasets\\car_dataset\\test\\images\\-611BF23F-5A2C-45D6-A4DC-033938DD1CA5-png_jpg.rf.eed4b5e4daf50ab4d908af27e5c4558a.jpg: 640x640 1 car, 12.2ms\n",
            "image 62/178 F:\\Magisterka\\yolov5\\datasets\\car_dataset\\test\\images\\-63A3759B-1595-4A66-BB62-1E7F580BA753-png_jpg.rf.ba9fdffe0cc0bd821153b4b9df9fa6eb.jpg: 640x640 1 car, 12.9ms\n",
            "image 63/178 F:\\Magisterka\\yolov5\\datasets\\car_dataset\\test\\images\\-66F945A5-3856-4F91-9EDD-6EF4833F57FA-png_jpg.rf.b99f2c575f34a66dd8c3ca94b7ea1751.jpg: 640x640 1 car, 13.6ms\n",
            "image 64/178 F:\\Magisterka\\yolov5\\datasets\\car_dataset\\test\\images\\-6D8CF994-CDAD-4784-9A07-C91C6EEDA073-png_jpg.rf.13b2209dd8e1bccdd40105c9f7a86868.jpg: 640x640 1 car, 12.1ms\n",
            "image 65/178 F:\\Magisterka\\yolov5\\datasets\\car_dataset\\test\\images\\-8561227C-3731-4CFC-9FE9-2715B581C159-png_jpg.rf.08657b886fd2427d57c1e8f034d35a15.jpg: 640x640 1 car, 11.5ms\n",
            "image 66/178 F:\\Magisterka\\yolov5\\datasets\\car_dataset\\test\\images\\-B41BBCCE-A512-4CBA-94C0-D236EC1DEBA1-png_jpg.rf.484d72999af84befc590bd3b880157f3.jpg: 640x640 1 car, 11.6ms\n",
            "image 67/178 F:\\Magisterka\\yolov5\\datasets\\car_dataset\\test\\images\\-B6D061C7-37D5-4849-8F5F-2F1BEBFAE4D2-png_jpg.rf.26f0b6a500d0d71110344d3a5f73fa21.jpg: 640x640 1 car, 12.6ms\n",
            "image 68/178 F:\\Magisterka\\yolov5\\datasets\\car_dataset\\test\\images\\-B6D061C7-37D5-4849-8F5F-2F1BEBFAE4D2-png_jpg.rf.c854007630ffa54e58293fff0013bf60.jpg: 640x640 1 car, 12.6ms\n",
            "image 69/178 F:\\Magisterka\\yolov5\\datasets\\car_dataset\\test\\images\\-B7C16E32-9846-40EF-8C8E-B26051E149DF-png_jpg.rf.c278d07443c34b1f8861d8bf4f7fbb81.jpg: 640x640 1 car, 12.2ms\n",
            "image 70/178 F:\\Magisterka\\yolov5\\datasets\\car_dataset\\test\\images\\-B8116B0D-7D32-4C4A-9F5D-D72766C72DB5-png_jpg.rf.5e94c02e038c7268911d8d6f33695e9b.jpg: 640x640 1 car, 12.3ms\n",
            "image 71/178 F:\\Magisterka\\yolov5\\datasets\\car_dataset\\test\\images\\-B9AA9C0E-404F-4AB4-B015-183269CB4261-png_jpg.rf.907ce7062715b9889b35b469a5ddd484.jpg: 640x640 1 car, 11.2ms\n",
            "image 72/178 F:\\Magisterka\\yolov5\\datasets\\car_dataset\\test\\images\\-BAE1D45C-2B9A-4C23-AB1D-BD0C25964678-png_jpg.rf.e7e6a759581eba7bd0998a6ca3879d7e.jpg: 640x640 1 car, 10.8ms\n",
            "image 73/178 F:\\Magisterka\\yolov5\\datasets\\car_dataset\\test\\images\\-BAEF245D-475F-4C90-807D-558E1FFFBF2A-png_jpg.rf.541261999202b002a75b07530c861ce6.jpg: 640x640 1 car, 11.5ms\n",
            "image 74/178 F:\\Magisterka\\yolov5\\datasets\\car_dataset\\test\\images\\-BBE0E236-CEEE-4F4E-A37C-D5C5B53E69A4-png_jpg.rf.eb313d333d258959459faa184504ccb5.jpg: 640x640 1 car, 11.4ms\n",
            "image 75/178 F:\\Magisterka\\yolov5\\datasets\\car_dataset\\test\\images\\-BCD3FEC3-6941-430A-A64B-5E445E741343-png_jpg.rf.b823de1a897477a7d7b6e5626ff2c70b.jpg: 640x640 1 car, 11.1ms\n",
            "image 76/178 F:\\Magisterka\\yolov5\\datasets\\car_dataset\\test\\images\\-BD23F506-8DE9-4C71-B79A-585BF30E68A5-png_jpg.rf.30b2d4cabef462d03869d761899b32ed.jpg: 640x640 1 car, 12.1ms\n",
            "image 77/178 F:\\Magisterka\\yolov5\\datasets\\car_dataset\\test\\images\\-BEACF130-F07D-4352-87CF-2BBC32A8C5AC-png_jpg.rf.27e74b554918b1f3503f08aeb492e668.jpg: 640x640 1 car, 12.4ms\n",
            "image 78/178 F:\\Magisterka\\yolov5\\datasets\\car_dataset\\test\\images\\-C0A680DB-DB9F-47C7-BE3B-74E6A294E203-png_jpg.rf.9bb94d42d4896fa4ea5c5d34d0a820cb.jpg: 640x640 1 car, 11.6ms\n",
            "image 79/178 F:\\Magisterka\\yolov5\\datasets\\car_dataset\\test\\images\\-C182A49E-641F-4C62-A54F-86397CBD2780-png_jpg.rf.66ab53e752d47f832cdf6ab942d5fe05.jpg: 640x640 1 car, 11.5ms\n",
            "image 80/178 F:\\Magisterka\\yolov5\\datasets\\car_dataset\\test\\images\\-C182A49E-641F-4C62-A54F-86397CBD2780-png_jpg.rf.8e3de16a685d18b4ebf37a799e40c58e.jpg: 640x640 1 car, 12.0ms\n",
            "image 81/178 F:\\Magisterka\\yolov5\\datasets\\car_dataset\\test\\images\\-C182A49E-641F-4C62-A54F-86397CBD2780-png_jpg.rf.ba0bea90245683f1088ac48c8e3fc215.jpg: 640x640 1 car, 11.7ms\n",
            "image 82/178 F:\\Magisterka\\yolov5\\datasets\\car_dataset\\test\\images\\-C182A49E-641F-4C62-A54F-86397CBD2780-png_jpg.rf.bc938c6a6a401ae249459f28d5cb3796.jpg: 640x640 1 car, 11.0ms\n",
            "image 83/178 F:\\Magisterka\\yolov5\\datasets\\car_dataset\\test\\images\\-C182A49E-641F-4C62-A54F-86397CBD2780-png_jpg.rf.d437dee1d581fa0c9dd2b97bea0d95be.jpg: 640x640 1 car, 12.0ms\n",
            "image 84/178 F:\\Magisterka\\yolov5\\datasets\\car_dataset\\test\\images\\-C1DAD6C9-B209-436B-9CC2-5460EDAE8924-png_jpg.rf.575095f38f7f3645b11b71a4b008084e.jpg: 640x640 1 car, 12.0ms\n",
            "image 85/178 F:\\Magisterka\\yolov5\\datasets\\car_dataset\\test\\images\\-C2DEBBE3-7D35-4B32-8AC1-D9271147FDB7-png_jpg.rf.f2d8da881e0d8d7af9f9cadb7e8b97b2.jpg: 640x640 1 car, 11.2ms\n",
            "image 86/178 F:\\Magisterka\\yolov5\\datasets\\car_dataset\\test\\images\\-C6E3BB9A-DF12-4C1E-B325-8480F9DDDF74-png_jpg.rf.f3fc6306fe6644aeb7670a0786ac8196.jpg: 640x640 1 car, 12.3ms\n",
            "image 87/178 F:\\Magisterka\\yolov5\\datasets\\car_dataset\\test\\images\\-C8A077AE-C474-4AAB-A0E4-24F4F9266447-png_jpg.rf.1ad4870bc1334428f2162d566410d65f.jpg: 640x640 2 cars, 11.1ms\n",
            "image 88/178 F:\\Magisterka\\yolov5\\datasets\\car_dataset\\test\\images\\-CF18C7DF-3DC1-4F14-A3B1-8521CEE36C3E-png_jpg.rf.c5c5ab7cbc9cbde5d5731eaf305b2a7a.jpg: 640x640 1 car, 10.2ms\n",
            "image 89/178 F:\\Magisterka\\yolov5\\datasets\\car_dataset\\test\\images\\-D2C63838-6966-45B0-99FF-C22521BF9149-png_jpg.rf.cb2f562f6d0207a3c574dba23bcb340d.jpg: 640x640 2 cars, 11.2ms\n",
            "image 90/178 F:\\Magisterka\\yolov5\\datasets\\car_dataset\\test\\images\\-D3D7864A-309B-4CE0-B18F-3CAC8DFD86D4-png_jpg.rf.f7c515892c2d430102ea9eb2c5a23a09.jpg: 640x640 3 cars, 11.8ms\n",
            "image 91/178 F:\\Magisterka\\yolov5\\datasets\\car_dataset\\test\\images\\-D3ED54BD-094A-471D-A8A9-C1A7B3262064-png_jpg.rf.92e11ab0cd8f2f24d828bf84c4228d3b.jpg: 640x640 1 car, 12.7ms\n",
            "image 92/178 F:\\Magisterka\\yolov5\\datasets\\car_dataset\\test\\images\\-DCC10965-2F71-42B2-8751-833FAFC81B07-png_jpg.rf.82a1895d79018b5519a0908be4ebe791.jpg: 640x640 1 car, 11.0ms\n",
            "image 93/178 F:\\Magisterka\\yolov5\\datasets\\car_dataset\\test\\images\\-DD69513A-F7AA-42AB-8934-FED2717CC935-png_jpg.rf.21820ca69ad6afd9ed0e4a3ca71f1f96.jpg: 640x640 1 car, 12.0ms\n",
            "image 94/178 F:\\Magisterka\\yolov5\\datasets\\car_dataset\\test\\images\\-DF6ABE64-1B3B-4148-A35F-D957221C40B7-png_jpg.rf.7c80656b45554dc4c7c55b812fb78e1a.jpg: 640x640 1 car, 11.8ms\n",
            "image 95/178 F:\\Magisterka\\yolov5\\datasets\\car_dataset\\test\\images\\-E1655382-7FF5-4725-9C33-D894A3A0881E-png_jpg.rf.455ee80c0bab4006cae66789f08bdbc8.jpg: 640x640 1 car, 12.5ms\n",
            "image 96/178 F:\\Magisterka\\yolov5\\datasets\\car_dataset\\test\\images\\-E169C681-EEF4-4F14-8884-D6C35F9A4005-png_jpg.rf.24b3a56f81867df3093e2941cfa4a1de.jpg: 640x640 1 car, 11.5ms\n",
            "image 97/178 F:\\Magisterka\\yolov5\\datasets\\car_dataset\\test\\images\\-F6C8BDBB-4AF8-454C-9460-BB89186D193C-png_jpg.rf.128fbdd3bd72cc2a9e4a8c336888dae0.jpg: 640x640 1 car, 11.0ms\n",
            "image 98/178 F:\\Magisterka\\yolov5\\datasets\\car_dataset\\test\\images\\-F6C8BDBB-4AF8-454C-9460-BB89186D193C-png_jpg.rf.aa1cde8eaaf2d092386eadbf3636ef3e.jpg: 640x640 1 car, 12.0ms\n",
            "image 99/178 F:\\Magisterka\\yolov5\\datasets\\car_dataset\\test\\images\\12_jpeg_jpg.rf.72cf60091d62f2ab6875fa0cc8bcae6f.jpg: 640x640 1 car, 11.0ms\n",
            "image 100/178 F:\\Magisterka\\yolov5\\datasets\\car_dataset\\test\\images\\13_jpg.rf.4e535bcd8d43cd20ce8b136277b75fbe.jpg: 640x640 (no detections), 11.5ms\n",
            "image 101/178 F:\\Magisterka\\yolov5\\datasets\\car_dataset\\test\\images\\15_jpeg_jpg.rf.15610b142d5481918e13698118b8f383.jpg: 640x640 1 car, 11.2ms\n",
            "image 102/178 F:\\Magisterka\\yolov5\\datasets\\car_dataset\\test\\images\\15_jpeg_jpg.rf.afe813564a823c18e24cc49f22947490.jpg: 640x640 1 car, 11.0ms\n",
            "image 103/178 F:\\Magisterka\\yolov5\\datasets\\car_dataset\\test\\images\\16_jpeg_jpg.rf.6618781864a2b57257947f4e5c5874e7.jpg: 640x640 1 car, 12.2ms\n",
            "image 104/178 F:\\Magisterka\\yolov5\\datasets\\car_dataset\\test\\images\\16_jpeg_jpg.rf.8527aaacb7e81255557afb47b76d76ec.jpg: 640x640 1 car, 12.7ms\n",
            "image 105/178 F:\\Magisterka\\yolov5\\datasets\\car_dataset\\test\\images\\16_jpg.rf.f1e5a8a3a801e967c9fb907cbae7cffa.jpg: 640x640 (no detections), 13.1ms\n",
            "image 106/178 F:\\Magisterka\\yolov5\\datasets\\car_dataset\\test\\images\\19_jpeg_jpg.rf.6a8db367c5f9578527b8a63af8e460ff.jpg: 640x640 1 car, 12.1ms\n",
            "image 107/178 F:\\Magisterka\\yolov5\\datasets\\car_dataset\\test\\images\\1_jpg.rf.dba6553dfc0308ec46d1442c4ef4b348.jpg: 640x640 1 car, 11.9ms\n",
            "image 108/178 F:\\Magisterka\\yolov5\\datasets\\car_dataset\\test\\images\\20_jpeg_jpg.rf.0b027a5072a63e232d7f036628779e34.jpg: 640x640 1 car, 12.3ms\n",
            "image 109/178 F:\\Magisterka\\yolov5\\datasets\\car_dataset\\test\\images\\20_jpeg_jpg.rf.4498e62015ba20edb2ac678bc51b9273.jpg: 640x640 1 car, 12.5ms\n",
            "image 110/178 F:\\Magisterka\\yolov5\\datasets\\car_dataset\\test\\images\\20_jpeg_jpg.rf.695dc5ea3bfe1642470e4a5ae7849be5.jpg: 640x640 1 car, 11.9ms\n",
            "image 111/178 F:\\Magisterka\\yolov5\\datasets\\car_dataset\\test\\images\\2_jpeg_jpg.rf.8ce5d37ab52a91c8910195fe442b697b.jpg: 640x640 1 car, 11.0ms\n",
            "image 112/178 F:\\Magisterka\\yolov5\\datasets\\car_dataset\\test\\images\\6_jpeg_jpg.rf.6d0b9fdcde102b28f3f6e5ead94109fe.jpg: 640x640 1 car, 12.1ms\n",
            "image 113/178 F:\\Magisterka\\yolov5\\datasets\\car_dataset\\test\\images\\8_jpeg_jpg.rf.0763a415f83c5146fd2ad4952d78ee5d.jpg: 640x640 2 cars, 11.5ms\n",
            "image 114/178 F:\\Magisterka\\yolov5\\datasets\\car_dataset\\test\\images\\8_jpeg_jpg.rf.9b6fbf39ef793ae566e2071828c6f15d.jpg: 640x640 2 cars, 11.5ms\n",
            "image 115/178 F:\\Magisterka\\yolov5\\datasets\\car_dataset\\test\\images\\8_jpeg_jpg.rf.e868aee10267792736f164f6ae620572.jpg: 640x640 2 cars, 11.2ms\n",
            "image 116/178 F:\\Magisterka\\yolov5\\datasets\\car_dataset\\test\\images\\9_jpeg_jpg.rf.596a99e1dbc709ee3d7d61d8c6eb4604.jpg: 640x640 1 car, 12.0ms\n",
            "image 117/178 F:\\Magisterka\\yolov5\\datasets\\car_dataset\\test\\images\\WhatsApp-Image-2022-11-29-at-20-15-43_jpeg_jpg.rf.5a52ee42a95b40d5bc52c7daaaa028a1.jpg: 640x640 1 car, 11.6ms\n",
            "image 118/178 F:\\Magisterka\\yolov5\\datasets\\car_dataset\\test\\images\\WhatsApp-Image-2022-11-29-at-20-15-44-1-_jpeg_jpg.rf.30d00a20ff7fb5e06ed363a381261f2e.jpg: 640x640 1 car, 11.5ms\n",
            "image 119/178 F:\\Magisterka\\yolov5\\datasets\\car_dataset\\test\\images\\WhatsApp-Image-2022-12-05-at-18-16-29_jpeg_jpg.rf.f105adf4339b924ba31dcc7c87c1631f.jpg: 640x640 1 car, 12.1ms\n",
            "image 120/178 F:\\Magisterka\\yolov5\\datasets\\car_dataset\\test\\images\\WhatsApp-Image-2022-12-05-at-18-16-45_jpeg_jpg.rf.664bbc51534f9963fbaad6fb16493732.jpg: 640x640 1 car, 12.0ms\n",
            "image 121/178 F:\\Magisterka\\yolov5\\datasets\\car_dataset\\test\\images\\WhatsApp-Image-2022-12-05-at-18-16-49_jpeg_jpg.rf.30582861b0bb9b20d320e0e6fc34d075.jpg: 640x640 1 car, 11.3ms\n",
            "image 122/178 F:\\Magisterka\\yolov5\\datasets\\car_dataset\\test\\images\\WhatsApp-Image-2022-12-05-at-18-16-50_jpeg_jpg.rf.a70aea599f58e37820cf070c50f597d6.jpg: 640x640 1 car, 12.3ms\n",
            "image 123/178 F:\\Magisterka\\yolov5\\datasets\\car_dataset\\test\\images\\WhatsApp-Image-2022-12-05-at-18-16-50_jpeg_jpg.rf.c010eb06fd1311d6818e136a63e8fc76.jpg: 640x640 1 car, 11.0ms\n",
            "image 124/178 F:\\Magisterka\\yolov5\\datasets\\car_dataset\\test\\images\\WhatsApp-Image-2022-12-05-at-18-17-00_jpeg_jpg.rf.865ff182a119937889d189fa4239d5da.jpg: 640x640 1 car, 11.8ms\n",
            "image 125/178 F:\\Magisterka\\yolov5\\datasets\\car_dataset\\test\\images\\WhatsApp-Image-2022-12-05-at-18-17-48_jpeg_jpg.rf.ecf1e881027b588b042a229138833e1d.jpg: 640x640 1 car, 10.9ms\n",
            "image 126/178 F:\\Magisterka\\yolov5\\datasets\\car_dataset\\test\\images\\WhatsApp-Image-2022-12-05-at-18-17-53_jpeg_jpg.rf.88412d95140d4be9e763a0fea67d478b.jpg: 640x640 1 car, 11.2ms\n",
            "image 127/178 F:\\Magisterka\\yolov5\\datasets\\car_dataset\\test\\images\\WhatsApp-Image-2022-12-05-at-18-17-53_jpeg_jpg.rf.f1fc917370e092148141721eaaa6df41.jpg: 640x640 1 car, 10.5ms\n",
            "image 128/178 F:\\Magisterka\\yolov5\\datasets\\car_dataset\\test\\images\\WhatsApp-Image-2022-12-05-at-18-18-04_jpeg_jpg.rf.cb5dd76e4fb43d18adbeaae56ba68069.jpg: 640x640 1 car, 11.3ms\n",
            "image 129/178 F:\\Magisterka\\yolov5\\datasets\\car_dataset\\test\\images\\WhatsApp-Image-2022-12-05-at-18-18-16_jpeg_jpg.rf.bb619cff5bee4af9c18a313118e72225.jpg: 640x640 1 car, 13.1ms\n",
            "image 130/178 F:\\Magisterka\\yolov5\\datasets\\car_dataset\\test\\images\\WhatsApp-Image-2022-12-05-at-18-18-28_jpeg_jpg.rf.c3c62f74fa0ba533e36048c9632b58cf.jpg: 640x640 1 car, 12.1ms\n",
            "image 131/178 F:\\Magisterka\\yolov5\\datasets\\car_dataset\\test\\images\\WhatsApp-Image-2022-12-05-at-18-19-29_jpeg_jpg.rf.6034c27d15e8fda251012c0df2659d7e.jpg: 640x640 2 cars, 12.0ms\n",
            "image 132/178 F:\\Magisterka\\yolov5\\datasets\\car_dataset\\test\\images\\WhatsApp-Image-2022-12-05-at-18-20-09_jpeg_jpg.rf.2779b1279cc62ad26afcf737503a38eb.jpg: 640x640 1 car, 12.0ms\n",
            "image 133/178 F:\\Magisterka\\yolov5\\datasets\\car_dataset\\test\\images\\WhatsApp-Image-2022-12-05-at-18-21-15_jpeg_jpg.rf.ffaa80823d4b4b0f230ff35643b2fc74.jpg: 640x640 1 car, 11.6ms\n",
            "image 134/178 F:\\Magisterka\\yolov5\\datasets\\car_dataset\\test\\images\\WhatsApp-Image-2022-12-05-at-18-22-24_jpeg_jpg.rf.2fdaaeb560b2f2e2272b53d64c0c16c0.jpg: 640x640 2 cars, 10.7ms\n",
            "image 135/178 F:\\Magisterka\\yolov5\\datasets\\car_dataset\\test\\images\\WhatsApp-Image-2022-12-05-at-18-22-52_jpeg_jpg.rf.a7c2cb710aa8863261a984075b96aa1a.jpg: 640x640 2 cars, 11.6ms\n",
            "image 136/178 F:\\Magisterka\\yolov5\\datasets\\car_dataset\\test\\images\\WhatsApp-Image-2022-12-05-at-18-22-59_jpeg_jpg.rf.d4de527537e4269d076c7b25902dd894.jpg: 640x640 1 car, 12.2ms\n",
            "image 137/178 F:\\Magisterka\\yolov5\\datasets\\car_dataset\\test\\images\\WhatsApp-Image-2022-12-05-at-18-23-15_jpeg_jpg.rf.361626f78e961a602ff3edde537ac6c6.jpg: 640x640 3 cars, 12.2ms\n",
            "image 138/178 F:\\Magisterka\\yolov5\\datasets\\car_dataset\\test\\images\\WhatsApp-Image-2022-12-05-at-18-23-15_jpeg_jpg.rf.e5494c218580ff13323aa82e1a02709e.jpg: 640x640 3 cars, 12.8ms\n",
            "image 139/178 F:\\Magisterka\\yolov5\\datasets\\car_dataset\\test\\images\\WhatsApp-Image-2022-12-05-at-18-24-16_jpeg_jpg.rf.d51cdb0c7f7a6cdcf744e5e8d08435e2.jpg: 640x640 3 cars, 12.0ms\n",
            "image 140/178 F:\\Magisterka\\yolov5\\datasets\\car_dataset\\test\\images\\WhatsApp-Image-2022-12-05-at-18-24-17_jpeg_jpg.rf.cdf22c83b5ef20e2fdf21d393af9f333.jpg: 640x640 1 car, 12.6ms\n",
            "image 141/178 F:\\Magisterka\\yolov5\\datasets\\car_dataset\\test\\images\\WhatsApp-Image-2022-12-05-at-18-25-07_jpeg_jpg.rf.6d53068323d54b3dd26a3803a7a7a9cf.jpg: 640x640 3 cars, 11.6ms\n",
            "image 142/178 F:\\Magisterka\\yolov5\\datasets\\car_dataset\\test\\images\\WhatsApp-Image-2022-12-05-at-18-25-08_jpeg_jpg.rf.b80dcf7e5a456699bbbb17a02a397b49.jpg: 640x640 1 car, 12.1ms\n",
            "image 143/178 F:\\Magisterka\\yolov5\\datasets\\car_dataset\\test\\images\\WhatsApp-Image-2022-12-05-at-18-25-40_jpeg_jpg.rf.754bb7527f8ad84b830d382ce5e8ed9e.jpg: 640x640 4 cars, 11.7ms\n",
            "image 144/178 F:\\Magisterka\\yolov5\\datasets\\car_dataset\\test\\images\\WhatsApp-Image-2022-12-05-at-18-26-10_jpeg_jpg.rf.be56de2fab8b8811d3e1a6731599ea21.jpg: 640x640 3 cars, 11.5ms\n",
            "image 145/178 F:\\Magisterka\\yolov5\\datasets\\car_dataset\\test\\images\\WhatsApp-Image-2022-12-05-at-18-26-29_jpeg_jpg.rf.4dc3ccad6c34b91eaf4fb55e74cf1a9d.jpg: 640x640 3 cars, 11.0ms\n",
            "image 146/178 F:\\Magisterka\\yolov5\\datasets\\car_dataset\\test\\images\\WhatsApp-Image-2022-12-05-at-18-26-29_jpeg_jpg.rf.ee67768f38c9269fabb2b5b58d1747f8.jpg: 640x640 3 cars, 11.1ms\n",
            "image 147/178 F:\\Magisterka\\yolov5\\datasets\\car_dataset\\test\\images\\WhatsApp-Image-2022-12-05-at-18-27-24_jpeg_jpg.rf.e3914d7533dce3d99134d9210f9c3e42.jpg: 640x640 1 car, 12.5ms\n",
            "image 148/178 F:\\Magisterka\\yolov5\\datasets\\car_dataset\\test\\images\\WhatsApp-Image-2022-12-05-at-18-28-56_jpeg_jpg.rf.a865d8aaa6dcf176b4d49293178e283d.jpg: 640x640 3 cars, 11.2ms\n",
            "image 149/178 F:\\Magisterka\\yolov5\\datasets\\car_dataset\\test\\images\\WhatsApp-Image-2022-12-05-at-18-28-57_jpeg_jpg.rf.e8d2292ef45e80168bbdaba8bd5ac126.jpg: 640x640 2 cars, 12.7ms\n",
            "image 150/178 F:\\Magisterka\\yolov5\\datasets\\car_dataset\\test\\images\\WhatsApp-Image-2022-12-05-at-18-29-12_jpeg_jpg.rf.32e5798418a2fcba67d9d7b4f8cb1cad.jpg: 640x640 7 cars, 11.3ms\n",
            "image 151/178 F:\\Magisterka\\yolov5\\datasets\\car_dataset\\test\\images\\WhatsApp-Video-2022-11-29-at-20_15_43_mp4-3_jpg.rf.cd382ce1d843c692fcea5519b379a237.jpg: 640x640 1 car, 12.8ms\n",
            "image 152/178 F:\\Magisterka\\yolov5\\datasets\\car_dataset\\test\\images\\WhatsApp-Video-2022-11-29-at-20_15_43_mp4-6_jpg.rf.40d30749c6b9380fa918e0edc977a825.jpg: 640x640 1 car, 11.0ms\n",
            "image 153/178 F:\\Magisterka\\yolov5\\datasets\\car_dataset\\test\\images\\WhatsApp-Video-2022-11-29-at-20_15_43_mp4-7_jpg.rf.fa4c3629b542c7d590f61fbf70f3deda.jpg: 640x640 1 car, 11.5ms\n",
            "image 154/178 F:\\Magisterka\\yolov5\\datasets\\car_dataset\\test\\images\\youtube-27_jpg.rf.055cc4b3a8287e9afbdc3e34301c0f4a.jpg: 640x640 1 car, 12.0ms\n",
            "image 155/178 F:\\Magisterka\\yolov5\\datasets\\car_dataset\\test\\images\\youtube-27_jpg.rf.3176d91658659a7238ddd45548bb7844.jpg: 640x640 1 car, 11.6ms\n",
            "image 156/178 F:\\Magisterka\\yolov5\\datasets\\car_dataset\\test\\images\\youtube-27_jpg.rf.97d1ee0616ffa61c96fb00f2f44e3d7f.jpg: 640x640 1 car, 11.0ms\n",
            "image 157/178 F:\\Magisterka\\yolov5\\datasets\\car_dataset\\test\\images\\youtube-29_jpg.rf.c58efc496e59358f7c4746d81a382c38.jpg: 640x640 1 car, 12.0ms\n",
            "image 158/178 F:\\Magisterka\\yolov5\\datasets\\car_dataset\\test\\images\\youtube-34_jpg.rf.5b60018d240d11935411d3cce818f41b.jpg: 640x640 1 car, 12.2ms\n",
            "image 159/178 F:\\Magisterka\\yolov5\\datasets\\car_dataset\\test\\images\\youtube-35_jpg.rf.be4880720d506e6b56c5a6b1e07331e2.jpg: 640x640 1 car, 12.0ms\n",
            "image 160/178 F:\\Magisterka\\yolov5\\datasets\\car_dataset\\test\\images\\youtube-36_jpg.rf.ddd8a8b9ccbc3a03e2459489696e854b.jpg: 640x640 1 car, 11.7ms\n",
            "image 161/178 F:\\Magisterka\\yolov5\\datasets\\car_dataset\\test\\images\\youtube-40_jpg.rf.9fa8c4a12212f2a7fb5bd2de7bb389a2.jpg: 640x640 1 car, 12.0ms\n",
            "image 162/178 F:\\Magisterka\\yolov5\\datasets\\car_dataset\\test\\images\\youtube-40_jpg.rf.b8f0f20f67935baa50dfab1561fed095.jpg: 640x640 1 car, 12.1ms\n",
            "image 163/178 F:\\Magisterka\\yolov5\\datasets\\car_dataset\\test\\images\\youtube-40_jpg.rf.e67428dd09badef7c6206f8a7ea3062d.jpg: 640x640 1 car, 10.3ms\n",
            "image 164/178 F:\\Magisterka\\yolov5\\datasets\\car_dataset\\test\\images\\youtube-41_jpg.rf.2c314dbced99f3977b43aa67c0019c05.jpg: 640x640 1 car, 12.3ms\n",
            "image 165/178 F:\\Magisterka\\yolov5\\datasets\\car_dataset\\test\\images\\youtube-42_jpg.rf.d2a9d7999981a8e76afbdff229586436.jpg: 640x640 1 car, 12.0ms\n",
            "image 166/178 F:\\Magisterka\\yolov5\\datasets\\car_dataset\\test\\images\\youtube-43_jpg.rf.c676fad594321bf84208ce2dcd0c77c4.jpg: 640x640 1 car, 10.7ms\n",
            "image 167/178 F:\\Magisterka\\yolov5\\datasets\\car_dataset\\test\\images\\youtube-43_jpg.rf.ed428cdf33e043e0e64008666cbed5b8.jpg: 640x640 1 car, 11.4ms\n",
            "image 168/178 F:\\Magisterka\\yolov5\\datasets\\car_dataset\\test\\images\\youtube-45_jpg.rf.a38d9d62b2d21e7b60cea44a789940a4.jpg: 640x640 1 car, 12.1ms\n",
            "image 169/178 F:\\Magisterka\\yolov5\\datasets\\car_dataset\\test\\images\\youtube-45_jpg.rf.daa2a6e2dc7b04be2db50bbd9d1f38ae.jpg: 640x640 1 car, 11.4ms\n",
            "image 170/178 F:\\Magisterka\\yolov5\\datasets\\car_dataset\\test\\images\\youtube-55_jpg.rf.933a909f2c6f54616c9ef25cdc0ab975.jpg: 640x640 1 car, 10.5ms\n",
            "image 171/178 F:\\Magisterka\\yolov5\\datasets\\car_dataset\\test\\images\\youtube-55_jpg.rf.d9ebf05e2fc5ae685fcb0279a7443e39.jpg: 640x640 1 car, 12.8ms\n",
            "image 172/178 F:\\Magisterka\\yolov5\\datasets\\car_dataset\\test\\images\\youtube-56_jpg.rf.305c341e73524b05585a68f7988c0a1a.jpg: 640x640 1 car, 11.5ms\n",
            "image 173/178 F:\\Magisterka\\yolov5\\datasets\\car_dataset\\test\\images\\youtube-57_jpg.rf.cee56d1dffc454e37722b1007f853978.jpg: 640x640 1 car, 11.7ms\n",
            "image 174/178 F:\\Magisterka\\yolov5\\datasets\\car_dataset\\test\\images\\youtube-58_jpg.rf.fb89042d1c8968c391bb7db23031f895.jpg: 640x640 1 car, 11.6ms\n",
            "image 175/178 F:\\Magisterka\\yolov5\\datasets\\car_dataset\\test\\images\\youtube-59_jpg.rf.0096c042a3f2aa61ac0c8ead5b00c605.jpg: 640x640 1 car, 12.6ms\n",
            "image 176/178 F:\\Magisterka\\yolov5\\datasets\\car_dataset\\test\\images\\youtube-59_jpg.rf.f225367771182a2c4c44f29ceb34dff5.jpg: 640x640 1 car, 12.6ms\n",
            "image 177/178 F:\\Magisterka\\yolov5\\datasets\\car_dataset\\test\\images\\youtube-60_jpg.rf.6e32c4c14475f07851b04391245e8474.jpg: 640x640 1 car, 12.0ms\n",
            "image 178/178 F:\\Magisterka\\yolov5\\datasets\\car_dataset\\test\\images\\youtube-61_jpg.rf.034a9dbb17e0adc97b253868e2468ec3.jpg: 640x640 1 car, 11.1ms\n",
            "Speed: 0.6ms pre-process, 11.9ms inference, 2.7ms NMS per image at shape (1, 3, 640, 640)\n",
            "Results saved to \u001b[1mruns\\detect\\yolov5s_b32_e100_car_det_test\u001b[0m\n",
            "176 labels saved to runs\\detect\\yolov5s_b32_e100_car_det_test\\labels\n"
          ]
        }
      ],
      "source": [
        "!python detect.py --source datasets/car_dataset/test/images/ --weights runs/train/yolov5s_b32_e100_car_det2/weights/best.pt --conf 0.25 --save-txt --name yolov5s_b32_e100_car_det_test"
      ]
    },
    {
      "cell_type": "code",
      "execution_count": null,
      "metadata": {
        "id": "X58w8JLpMnjH"
      },
      "outputs": [],
      "source": [
        "# Validate YOLOv5s on COCO val\n",
        "!python val.py --weights runs/train/yolov5s_b32_e3_car_det10/weights/best.pt --data data/car_data.yaml --img 640 --half --name yolov5s_b32_e3_car_det"
      ]
    },
    {
      "cell_type": "code",
      "execution_count": 6,
      "metadata": {},
      "outputs": [
        {
          "name": "stderr",
          "output_type": "stream",
          "text": [
            "Traceback (most recent call last):\n",
            "  File \"f:\\Magisterka\\yolov5\\cal_pred_qual.py\", line 67, in <module>\n",
            "    obj.mean_iou = sum(obj.iou)/len(obj.iou)  \n",
            "ZeroDivisionError: division by zero\n"
          ]
        }
      ],
      "source": [
        "# Obliczenie ilości bounding-boxów względem zdjęć testowych\n",
        "!python cal_pred_qual.py --tlds datasets/car_dataset/test/labels --dlds runs/detect/yolov5s_b32_e100_car_det_test/labels"
      ]
    },
    {
      "cell_type": "code",
      "execution_count": 1,
      "metadata": {
        "colab": {
          "base_uri": "https://localhost:8080/",
          "height": 315
        },
        "id": "i3oKtE4g-aNn",
        "outputId": "6bf88e96-1ec9-4e48-8baa-8fac78f7b47b"
      },
      "outputs": [
        {
          "name": "stdout",
          "output_type": "stream",
          "text": [
            "Note: you may need to restart the kernel to use updated packages.\n",
            "Please paste your Comet API key from https://www.comet.com/api/my/settings/\n",
            "(api key may not show as you type)\n"
          ]
        },
        {
          "name": "stderr",
          "output_type": "stream",
          "text": [
            "\u001b[1;38;5;39mCOMET INFO:\u001b[0m Valid Comet API Key saved in C:\\Users\\Marek\\.comet.config (set COMET_CONFIG to change where it is saved).\n"
          ]
        }
      ],
      "source": [
        "#@title Select YOLOv5 🚀 logger {run: 'auto'}\n",
        "logger = 'Comet' #@param ['Comet', 'ClearML', 'TensorBoard']\n",
        "\n",
        "if logger == 'Comet':\n",
        "  %pip install -q comet_ml\n",
        "  import comet_ml; comet_ml.init()\n",
        "elif logger == 'ClearML':\n",
        "  %pip install -q clearml\n",
        "  import clearml; clearml.browser_login()\n",
        "elif logger == 'TensorBoard':\n",
        "  %load_ext tensorboard\n",
        "  %tensorboard --logdir runs/train"
      ]
    },
    {
      "cell_type": "markdown",
      "metadata": {
        "id": "6Qu7Iesl0p54"
      },
      "source": [
        "# Status\n",
        "\n",
        "![YOLOv5 CI](https://github.com/ultralytics/yolov5/actions/workflows/ci-testing.yml/badge.svg)\n",
        "\n",
        "If this badge is green, all [YOLOv5 GitHub Actions](https://github.com/ultralytics/yolov5/actions) Continuous Integration (CI) tests are currently passing. CI tests verify correct operation of YOLOv5 training ([train.py](https://github.com/ultralytics/yolov5/blob/master/train.py)), testing ([val.py](https://github.com/ultralytics/yolov5/blob/master/val.py)), inference ([detect.py](https://github.com/ultralytics/yolov5/blob/master/detect.py)) and export ([export.py](https://github.com/ultralytics/yolov5/blob/master/export.py)) on macOS, Windows, and Ubuntu every 24 hours and on every commit.\n"
      ]
    }
  ],
  "metadata": {
    "accelerator": "GPU",
    "colab": {
      "provenance": []
    },
    "kernelspec": {
      "display_name": "Python 3",
      "name": "python3"
    },
    "language_info": {
      "codemirror_mode": {
        "name": "ipython",
        "version": 3
      },
      "file_extension": ".py",
      "mimetype": "text/x-python",
      "name": "python",
      "nbconvert_exporter": "python",
      "pygments_lexer": "ipython3",
      "version": "3.10.13"
    }
  },
  "nbformat": 4,
  "nbformat_minor": 0
}
