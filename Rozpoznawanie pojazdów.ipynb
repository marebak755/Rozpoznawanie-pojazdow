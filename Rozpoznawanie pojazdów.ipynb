{
  "cells": [
    {
      "cell_type": "code",
      "execution_count": 5,
      "metadata": {
        "id": "ZDn0bWnEyY_t"
      },
      "outputs": [
        {
          "name": "stderr",
          "output_type": "stream",
          "text": [
            "YOLOv5  v7.0-301-g766e74b7 Python-3.10.13 torch-2.2.1+cu121 CUDA:0 (Quadro M2200, 4096MiB)\n"
          ]
        },
        {
          "name": "stdout",
          "output_type": "stream",
          "text": [
            "Setup complete  (8 CPUs, 31.8 GB RAM, 73.0/585.9 GB disk)\n"
          ]
        }
      ],
      "source": [
        "# Pobranie katalogu yolov5\n",
        "#!git clone https://github.com/ultralytics/yolov5 \n",
        "%pip install -r requirements.txt\n",
        "\n",
        "import torch\n",
        "import utils\n",
        "\n",
        "display = utils.notebook_init()"
      ]
    },
    {
      "cell_type": "code",
      "execution_count": 6,
      "metadata": {
        "colab": {
          "base_uri": "https://localhost:8080/",
          "height": 176
        },
        "id": "WQPtK1QYVaD_",
        "outputId": "341d60fe-f34c-456f-cdd4-02154f9a4b81"
      },
      "outputs": [
        {
          "name": "stderr",
          "output_type": "stream",
          "text": [
            "100%|██████████| 182M/182M [00:12<00:00, 14.7MB/s] \n"
          ]
        }
      ],
      "source": [
        "# Pobranie zbioru danych\n",
        "torch.hub.download_url_to_file('https://universe.roboflow.com/ds/527YOjkr7I?key=u8ay8zAI3n', 'tmp.zip')"
      ]
    },
    {
      "cell_type": "code",
      "execution_count": 17,
      "metadata": {},
      "outputs": [
        {
          "name": "stdout",
          "output_type": "stream",
          "text": [
            "Note: you may need to restart the kernel to use updated packages.\n"
          ]
        }
      ],
      "source": [
        "# Import loggera Comet\n",
        "%pip install -q comet_ml\n",
        "import comet_ml; comet_ml.init()"
      ]
    },
    {
      "cell_type": "code",
      "execution_count": null,
      "metadata": {
        "colab": {
          "base_uri": "https://localhost:8080/"
        },
        "id": "1NcFxRcFdJ_O",
        "outputId": "8c9baea2-62cf-464e-c346-bbcb9bbe969d"
      },
      "outputs": [],
      "source": [
        "# Trenowanie danych\n",
        "!python train.py --img 640 --batch 32  --epochs 10 --data car_data.yaml --weights '' --cfg models/yolov5s.yaml --workers 0 --cache --name no_pretrained_b32_e10_car_det --device 0"
      ]
    },
    {
      "cell_type": "code",
      "execution_count": null,
      "metadata": {
        "id": "zR9ZbuQCH7FX"
      },
      "outputs": [],
      "source": [
        "!python detect.py --source datasets/car_dataset/test/images/ --weights runs/train/no_pretrained_b32_e10_car_det/weights/best.pt --conf 0.25 --save-txt --name no_pretrained_b32_e10_car_det"
      ]
    },
    {
      "cell_type": "code",
      "execution_count": null,
      "metadata": {
        "id": "X58w8JLpMnjH"
      },
      "outputs": [],
      "source": [
        "# Validate YOLOv5s on COCO val\n",
        "!python val.py --weights runs/train/yolov5s_b32_e3_car_det10/weights/best.pt --data data/car_data.yaml --img 640 --half --name yolov5s_b32_e3_car_det"
      ]
    },
    {
      "cell_type": "code",
      "execution_count": 3,
      "metadata": {},
      "outputs": [
        {
          "name": "stdout",
          "output_type": "stream",
          "text": [
            "Liczba boundingbox w zbiorze testowym: 217\n",
            "Liczba boundingbox wykryta przez algorytm po detekcji: 247\n",
            "Liczba błędnie rozpoznanych bounding-boxów: 41\n",
            "Liczba błędów rozpoznanmych bounding-boxów (%): 18.89400921658986%\n",
            "Średnia wartość iou na cały zbiór: 0.7507670575256732\n"
          ]
        }
      ],
      "source": [
        "# Obliczenie ilości bounding-boxów względem zdjęć testowych\n",
        "!python cal_pred_qual.py --tlds datasets/car_dataset/test/labels --dlds runs/detect/no_pretrained_b32_e10_car_det/labels"
      ]
    },
    {
      "cell_type": "markdown",
      "metadata": {
        "id": "6Qu7Iesl0p54"
      },
      "source": [
        "# Status\n",
        "\n",
        "![YOLOv5 CI](https://github.com/ultralytics/yolov5/actions/workflows/ci-testing.yml/badge.svg)\n",
        "\n",
        "If this badge is green, all [YOLOv5 GitHub Actions](https://github.com/ultralytics/yolov5/actions) Continuous Integration (CI) tests are currently passing. CI tests verify correct operation of YOLOv5 training ([train.py](https://github.com/ultralytics/yolov5/blob/master/train.py)), testing ([val.py](https://github.com/ultralytics/yolov5/blob/master/val.py)), inference ([detect.py](https://github.com/ultralytics/yolov5/blob/master/detect.py)) and export ([export.py](https://github.com/ultralytics/yolov5/blob/master/export.py)) on macOS, Windows, and Ubuntu every 24 hours and on every commit.\n"
      ]
    }
  ],
  "metadata": {
    "accelerator": "GPU",
    "colab": {
      "provenance": []
    },
    "kernelspec": {
      "display_name": "Python 3",
      "name": "python3"
    },
    "language_info": {
      "codemirror_mode": {
        "name": "ipython",
        "version": 3
      },
      "file_extension": ".py",
      "mimetype": "text/x-python",
      "name": "python",
      "nbconvert_exporter": "python",
      "pygments_lexer": "ipython3",
      "version": "3.10.13"
    }
  },
  "nbformat": 4,
  "nbformat_minor": 0
}
