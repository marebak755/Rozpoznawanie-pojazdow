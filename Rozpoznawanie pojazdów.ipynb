{
  "cells": [
    {
      "cell_type": "code",
      "execution_count": 5,
      "metadata": {
        "id": "ZDn0bWnEyY_t"
      },
      "outputs": [
        {
          "name": "stderr",
          "output_type": "stream",
          "text": [
            "YOLOv5  v7.0-301-g766e74b7 Python-3.10.13 torch-2.2.1+cu121 CUDA:0 (Quadro M2200, 4096MiB)\n"
          ]
        },
        {
          "name": "stdout",
          "output_type": "stream",
          "text": [
            "Setup complete  (8 CPUs, 31.8 GB RAM, 73.0/585.9 GB disk)\n"
          ]
        }
      ],
      "source": [
        "# Pobranie katalogu yolov5\n",
        "#!git clone https://github.com/ultralytics/yolov5 \n",
        "%pip install -r requirements.txt\n",
        "\n",
        "import torch\n",
        "import utils\n",
        "\n",
        "display = utils.notebook_init()"
      ]
    },
    {
      "cell_type": "code",
      "execution_count": 6,
      "metadata": {
        "colab": {
          "base_uri": "https://localhost:8080/",
          "height": 176
        },
        "id": "WQPtK1QYVaD_",
        "outputId": "341d60fe-f34c-456f-cdd4-02154f9a4b81"
      },
      "outputs": [
        {
          "name": "stderr",
          "output_type": "stream",
          "text": [
            "100%|██████████| 182M/182M [00:12<00:00, 14.7MB/s] \n"
          ]
        }
      ],
      "source": [
        "# Pobranie zbioru danych\n",
        "torch.hub.download_url_to_file('https://universe.roboflow.com/ds/527YOjkr7I?key=u8ay8zAI3n', 'tmp.zip')"
      ]
    },
    {
      "cell_type": "code",
      "execution_count": 17,
      "metadata": {},
      "outputs": [
        {
          "name": "stdout",
          "output_type": "stream",
          "text": [
            "Note: you may need to restart the kernel to use updated packages.\n"
          ]
        }
      ],
      "source": [
        "# Import loggera Comet\n",
        "%pip install -q comet_ml\n",
        "import comet_ml; comet_ml.init()"
      ]
    },
    {
      "cell_type": "code",
      "execution_count": 3,
      "metadata": {
        "colab": {
          "base_uri": "https://localhost:8080/"
        },
        "id": "1NcFxRcFdJ_O",
        "outputId": "8c9baea2-62cf-464e-c346-bbcb9bbe969d"
      },
      "outputs": [
        {
          "name": "stderr",
          "output_type": "stream",
          "text": [
            "\u001b[34m\u001b[1mtrain: \u001b[0mweights='', cfg=models/yolov5l.yaml, data=car_data.yaml, hyp=data\\hyps\\hyp.scratch-low.yaml, epochs=10, batch_size=32, imgsz=640, rect=False, resume=False, nosave=False, noval=False, noautoanchor=False, noplots=False, evolve=None, evolve_population=data\\hyps, resume_evolve=None, bucket=, cache=ram, image_weights=False, device=0, multi_scale=False, single_cls=False, optimizer=SGD, sync_bn=False, workers=0, project=runs\\train, name=no_pretrained_cfg_yolov5l_b32_e10_car_det, exist_ok=False, quad=False, cos_lr=False, label_smoothing=0.0, patience=100, freeze=[0], save_period=-1, seed=0, local_rank=-1, entity=None, upload_dataset=False, bbox_interval=-1, artifact_alias=latest, ndjson_console=False, ndjson_file=False\n",
            "\u001b[34m\u001b[1mgithub: \u001b[0mup to date with https://github.com/ultralytics/yolov5 \n",
            "YOLOv5  v7.0-303-g87deafbb Python-3.10.13 torch-2.2.1+cu121 CUDA:0 (Quadro M2200, 4096MiB)\n",
            "\n",
            "\u001b[34m\u001b[1mhyperparameters: \u001b[0mlr0=0.01, lrf=0.01, momentum=0.937, weight_decay=0.0005, warmup_epochs=3.0, warmup_momentum=0.8, warmup_bias_lr=0.1, box=0.05, cls=0.5, cls_pw=1.0, obj=1.0, obj_pw=1.0, iou_t=0.2, anchor_t=4.0, fl_gamma=0.0, hsv_h=0.015, hsv_s=0.7, hsv_v=0.4, degrees=0.0, translate=0.1, scale=0.5, shear=0.0, perspective=0.0, flipud=0.0, fliplr=0.5, mosaic=1.0, mixup=0.0, copy_paste=0.0\n",
            "\u001b[34m\u001b[1mTensorBoard: \u001b[0mStart with 'tensorboard --logdir runs\\train', view at http://localhost:6006/\n",
            "COMET WARNING: Native output logging mode is not available, falling back to basic output logging\n",
            "COMET INFO: Experiment is live on comet.com https://www.comet.com/marebak755/yolov5/9eed04a4c5ea4a8296f382e76667f2d8\n",
            "\n",
            "Overriding model.yaml nc=80 with nc=1\n",
            "\n",
            "                 from  n    params  module                                  arguments                     \n",
            "  0                -1  1      7040  models.common.Conv                      [3, 64, 6, 2, 2]              \n",
            "  1                -1  1     73984  models.common.Conv                      [64, 128, 3, 2]               \n",
            "  2                -1  3    156928  models.common.C3                        [128, 128, 3]                 \n",
            "  3                -1  1    295424  models.common.Conv                      [128, 256, 3, 2]              \n",
            "  4                -1  6   1118208  models.common.C3                        [256, 256, 6]                 \n",
            "  5                -1  1   1180672  models.common.Conv                      [256, 512, 3, 2]              \n",
            "  6                -1  9   6433792  models.common.C3                        [512, 512, 9]                 \n",
            "  7                -1  1   4720640  models.common.Conv                      [512, 1024, 3, 2]             \n",
            "  8                -1  3   9971712  models.common.C3                        [1024, 1024, 3]               \n",
            "  9                -1  1   2624512  models.common.SPPF                      [1024, 1024, 5]               \n",
            " 10                -1  1    525312  models.common.Conv                      [1024, 512, 1, 1]             \n",
            " 11                -1  1         0  torch.nn.modules.upsampling.Upsample    [None, 2, 'nearest']          \n",
            " 12           [-1, 6]  1         0  models.common.Concat                    [1]                           \n",
            " 13                -1  3   2757632  models.common.C3                        [1024, 512, 3, False]         \n",
            " 14                -1  1    131584  models.common.Conv                      [512, 256, 1, 1]              \n",
            " 15                -1  1         0  torch.nn.modules.upsampling.Upsample    [None, 2, 'nearest']          \n",
            " 16           [-1, 4]  1         0  models.common.Concat                    [1]                           \n",
            " 17                -1  3    690688  models.common.C3                        [512, 256, 3, False]          \n",
            " 18                -1  1    590336  models.common.Conv                      [256, 256, 3, 2]              \n",
            " 19          [-1, 14]  1         0  models.common.Concat                    [1]                           \n",
            " 20                -1  3   2495488  models.common.C3                        [512, 512, 3, False]          \n",
            " 21                -1  1   2360320  models.common.Conv                      [512, 512, 3, 2]              \n",
            " 22          [-1, 10]  1         0  models.common.Concat                    [1]                           \n",
            " 23                -1  3   9971712  models.common.C3                        [1024, 1024, 3, False]        \n",
            " 24      [17, 20, 23]  1     32310  models.yolo.Detect                      [1, [[10, 13, 16, 30, 33, 23], [30, 61, 62, 45, 59, 119], [116, 90, 156, 198, 373, 326]], [256, 512, 1024]]\n",
            "YOLOv5l summary: 368 layers, 46138294 parameters, 46138294 gradients, 108.2 GFLOPs\n",
            "\n",
            "\u001b[34m\u001b[1mAMP: \u001b[0mchecks passed \n",
            "\u001b[34m\u001b[1moptimizer:\u001b[0m SGD(lr=0.01) with parameter groups 101 weight(decay=0.0), 104 weight(decay=0.0005), 104 bias\n",
            "\n",
            "\u001b[34m\u001b[1mtrain: \u001b[0mScanning D:\\Projekty\\Magisterka\\Rozpoznawanie-pojazdow\\datasets\\car_dataset\\train\\labels.cache... 3871 images, 58 backgrounds, 0 corrupt: 100%|██████████| 3871/3871 [00:00<?, ?it/s]\n",
            "\u001b[34m\u001b[1mtrain: \u001b[0mScanning D:\\Projekty\\Magisterka\\Rozpoznawanie-pojazdow\\datasets\\car_dataset\\train\\labels.cache... 3871 images, 58 backgrounds, 0 corrupt: 100%|██████████| 3871/3871 [00:00<?, ?it/s]\n",
            "\n",
            "  0%|          | 0/3871 [00:00<?, ?it/s]\n",
            "\u001b[34m\u001b[1mtrain: \u001b[0mCaching images (0.1GB ram):   1%|▏         | 56/3871 [00:00<00:07, 485.36it/s]\n",
            "\u001b[34m\u001b[1mtrain: \u001b[0mCaching images (0.2GB ram):   3%|▎         | 133/3871 [00:00<00:05, 633.31it/s]\n",
            "\u001b[34m\u001b[1mtrain: \u001b[0mCaching images (0.2GB ram):   5%|▌         | 203/3871 [00:00<00:05, 649.54it/s]\n",
            "\u001b[34m\u001b[1mtrain: \u001b[0mCaching images (0.3GB ram):   7%|▋         | 274/3871 [00:00<00:05, 668.45it/s]\n",
            "\u001b[34m\u001b[1mtrain: \u001b[0mCaching images (0.4GB ram):   9%|▉         | 346/3871 [00:00<00:05, 686.02it/s]\n",
            "\u001b[34m\u001b[1mtrain: \u001b[0mCaching images (0.5GB ram):  11%|█         | 419/3871 [00:00<00:04, 697.71it/s]\n",
            "\u001b[34m\u001b[1mtrain: \u001b[0mCaching images (0.6GB ram):  13%|█▎        | 489/3871 [00:00<00:04, 686.34it/s]\n",
            "\u001b[34m\u001b[1mtrain: \u001b[0mCaching images (0.6GB ram):  15%|█▍        | 564/3871 [00:00<00:04, 702.62it/s]\n",
            "\u001b[34m\u001b[1mtrain: \u001b[0mCaching images (0.7GB ram):  16%|█▋        | 636/3871 [00:00<00:04, 688.78it/s]\n",
            "\u001b[34m\u001b[1mtrain: \u001b[0mCaching images (0.8GB ram):  18%|█▊        | 713/3871 [00:01<00:04, 707.43it/s]\n",
            "\u001b[34m\u001b[1mtrain: \u001b[0mCaching images (0.9GB ram):  20%|██        | 785/3871 [00:01<00:04, 709.60it/s]\n",
            "\u001b[34m\u001b[1mtrain: \u001b[0mCaching images (1.0GB ram):  22%|██▏       | 857/3871 [00:01<00:04, 707.85it/s]\n",
            "\u001b[34m\u001b[1mtrain: \u001b[0mCaching images (1.1GB ram):  24%|██▍       | 930/3871 [00:01<00:04, 707.49it/s]\n",
            "\u001b[34m\u001b[1mtrain: \u001b[0mCaching images (1.2GB ram):  26%|██▌       | 1013/3871 [00:01<00:03, 734.95it/s]\n",
            "\u001b[34m\u001b[1mtrain: \u001b[0mCaching images (1.2GB ram):  28%|██▊       | 1089/3871 [00:01<00:03, 739.70it/s]\n",
            "\u001b[34m\u001b[1mtrain: \u001b[0mCaching images (1.3GB ram):  30%|███       | 1163/3871 [00:01<00:03, 732.94it/s]\n",
            "\u001b[34m\u001b[1mtrain: \u001b[0mCaching images (1.4GB ram):  32%|███▏      | 1237/3871 [00:01<00:03, 718.23it/s]\n",
            "\u001b[34m\u001b[1mtrain: \u001b[0mCaching images (1.5GB ram):  34%|███▍      | 1310/3871 [00:01<00:03, 717.16it/s]\n",
            "\u001b[34m\u001b[1mtrain: \u001b[0mCaching images (1.6GB ram):  36%|███▌      | 1390/3871 [00:01<00:03, 733.80it/s]\n",
            "\u001b[34m\u001b[1mtrain: \u001b[0mCaching images (1.7GB ram):  38%|███▊      | 1464/3871 [00:02<00:03, 730.57it/s]\n",
            "\u001b[34m\u001b[1mtrain: \u001b[0mCaching images (1.8GB ram):  40%|███▉      | 1546/3871 [00:02<00:03, 748.55it/s]\n",
            "\u001b[34m\u001b[1mtrain: \u001b[0mCaching images (1.9GB ram):  42%|████▏     | 1621/3871 [00:02<00:03, 724.53it/s]\n",
            "\u001b[34m\u001b[1mtrain: \u001b[0mCaching images (1.9GB ram):  44%|████▍     | 1694/3871 [00:02<00:03, 690.63it/s]\n",
            "\u001b[34m\u001b[1mtrain: \u001b[0mCaching images (2.0GB ram):  46%|████▌     | 1764/3871 [00:02<00:03, 673.93it/s]\n",
            "\u001b[34m\u001b[1mtrain: \u001b[0mCaching images (2.1GB ram):  48%|████▊     | 1848/3871 [00:02<00:02, 720.04it/s]\n",
            "\u001b[34m\u001b[1mtrain: \u001b[0mCaching images (2.2GB ram):  50%|████▉     | 1921/3871 [00:02<00:02, 714.48it/s]\n",
            "\u001b[34m\u001b[1mtrain: \u001b[0mCaching images (2.3GB ram):  51%|█████▏    | 1993/3871 [00:02<00:02, 698.94it/s]\n",
            "\u001b[34m\u001b[1mtrain: \u001b[0mCaching images (2.4GB ram):  53%|█████▎    | 2064/3871 [00:02<00:02, 700.58it/s]\n",
            "\u001b[34m\u001b[1mtrain: \u001b[0mCaching images (2.4GB ram):  55%|█████▌    | 2136/3871 [00:03<00:02, 704.29it/s]\n",
            "\u001b[34m\u001b[1mtrain: \u001b[0mCaching images (2.5GB ram):  57%|█████▋    | 2212/3871 [00:03<00:02, 710.31it/s]\n",
            "\u001b[34m\u001b[1mtrain: \u001b[0mCaching images (2.6GB ram):  59%|█████▉    | 2290/3871 [00:03<00:02, 726.46it/s]\n",
            "\u001b[34m\u001b[1mtrain: \u001b[0mCaching images (2.7GB ram):  61%|██████    | 2363/3871 [00:03<00:02, 719.74it/s]\n",
            "\u001b[34m\u001b[1mtrain: \u001b[0mCaching images (2.8GB ram):  63%|██████▎   | 2436/3871 [00:03<00:02, 702.26it/s]\n",
            "\u001b[34m\u001b[1mtrain: \u001b[0mCaching images (2.9GB ram):  65%|██████▍   | 2515/3871 [00:03<00:01, 725.48it/s]\n",
            "\u001b[34m\u001b[1mtrain: \u001b[0mCaching images (3.0GB ram):  67%|██████▋   | 2588/3871 [00:03<00:01, 720.92it/s]\n",
            "\u001b[34m\u001b[1mtrain: \u001b[0mCaching images (3.0GB ram):  69%|██████▉   | 2662/3871 [00:03<00:01, 724.56it/s]\n",
            "\u001b[34m\u001b[1mtrain: \u001b[0mCaching images (3.1GB ram):  71%|███████   | 2742/3871 [00:03<00:01, 743.09it/s]\n",
            "\u001b[34m\u001b[1mtrain: \u001b[0mCaching images (3.2GB ram):  73%|███████▎  | 2818/3871 [00:03<00:01, 746.41it/s]\n",
            "\u001b[34m\u001b[1mtrain: \u001b[0mCaching images (3.3GB ram):  75%|███████▍  | 2893/3871 [00:04<00:01, 746.88it/s]\n",
            "\u001b[34m\u001b[1mtrain: \u001b[0mCaching images (3.4GB ram):  77%|███████▋  | 2968/3871 [00:04<00:01, 728.20it/s]\n",
            "\u001b[34m\u001b[1mtrain: \u001b[0mCaching images (3.5GB ram):  79%|███████▊  | 3041/3871 [00:04<00:01, 715.52it/s]\n",
            "\u001b[34m\u001b[1mtrain: \u001b[0mCaching images (3.6GB ram):  80%|████████  | 3113/3871 [00:04<00:01, 704.82it/s]\n",
            "\u001b[34m\u001b[1mtrain: \u001b[0mCaching images (3.6GB ram):  82%|████████▏ | 3184/3871 [00:04<00:00, 694.38it/s]\n",
            "\u001b[34m\u001b[1mtrain: \u001b[0mCaching images (3.7GB ram):  84%|████████▍ | 3259/3871 [00:04<00:00, 706.59it/s]\n",
            "\u001b[34m\u001b[1mtrain: \u001b[0mCaching images (3.8GB ram):  86%|████████▌ | 3331/3871 [00:04<00:00, 707.65it/s]\n",
            "\u001b[34m\u001b[1mtrain: \u001b[0mCaching images (3.9GB ram):  88%|████████▊ | 3402/3871 [00:04<00:00, 700.86it/s]\n",
            "\u001b[34m\u001b[1mtrain: \u001b[0mCaching images (4.0GB ram):  90%|████████▉ | 3473/3871 [00:04<00:00, 702.20it/s]\n",
            "\u001b[34m\u001b[1mtrain: \u001b[0mCaching images (4.1GB ram):  92%|█████████▏| 3545/3871 [00:04<00:00, 702.11it/s]\n",
            "\u001b[34m\u001b[1mtrain: \u001b[0mCaching images (4.1GB ram):  94%|█████████▎| 3620/3871 [00:05<00:00, 715.28it/s]\n",
            "\u001b[34m\u001b[1mtrain: \u001b[0mCaching images (4.2GB ram):  95%|█████████▌| 3696/3871 [00:05<00:00, 727.60it/s]\n",
            "\u001b[34m\u001b[1mtrain: \u001b[0mCaching images (4.3GB ram):  97%|█████████▋| 3769/3871 [00:05<00:00, 720.13it/s]\n",
            "\u001b[34m\u001b[1mtrain: \u001b[0mCaching images (4.4GB ram):  99%|█████████▉| 3842/3871 [00:05<00:00, 706.99it/s]\n",
            "\u001b[34m\u001b[1mtrain: \u001b[0mCaching images (4.4GB ram): 100%|██████████| 3871/3871 [00:05<00:00, 711.66it/s]\n",
            "\n",
            "\u001b[34m\u001b[1mval: \u001b[0mScanning D:\\Projekty\\Magisterka\\Rozpoznawanie-pojazdow\\datasets\\car_dataset\\valid\\labels.cache... 267 images, 2 backgrounds, 0 corrupt: 100%|██████████| 267/267 [00:00<?, ?it/s]\n",
            "\u001b[34m\u001b[1mval: \u001b[0mScanning D:\\Projekty\\Magisterka\\Rozpoznawanie-pojazdow\\datasets\\car_dataset\\valid\\labels.cache... 267 images, 2 backgrounds, 0 corrupt: 100%|██████████| 267/267 [00:00<?, ?it/s]\n",
            "\n",
            "  0%|          | 0/267 [00:00<?, ?it/s]\n",
            "\u001b[34m\u001b[1mval: \u001b[0mCaching images (0.1GB ram):  19%|█▉        | 51/267 [00:00<00:00, 466.66it/s]\n",
            "\u001b[34m\u001b[1mval: \u001b[0mCaching images (0.1GB ram):  49%|████▉     | 131/267 [00:00<00:00, 645.51it/s]\n",
            "\u001b[34m\u001b[1mval: \u001b[0mCaching images (0.2GB ram):  74%|███████▍  | 197/267 [00:00<00:00, 537.68it/s]\n",
            "\u001b[34m\u001b[1mval: \u001b[0mCaching images (0.3GB ram):  95%|█████████▍| 253/267 [00:00<00:00, 524.19it/s]\n",
            "\u001b[34m\u001b[1mval: \u001b[0mCaching images (0.3GB ram): 100%|██████████| 267/267 [00:00<00:00, 533.60it/s]\n",
            "\n",
            "\u001b[34m\u001b[1mAutoAnchor: \u001b[0m3.17 anchors/target, 1.000 Best Possible Recall (BPR). Current anchors are a good fit to dataset \n",
            "Plotting labels to runs\\train\\no_pretrained_cfg_yolov5l_b32_e10_car_det\\labels.jpg... \n",
            "Image sizes 640 train, 640 val\n",
            "Using 0 dataloader workers\n",
            "Logging results to \u001b[1mruns\\train\\no_pretrained_cfg_yolov5l_b32_e10_car_det\u001b[0m\n",
            "Starting training for 10 epochs...\n",
            "\n",
            "      Epoch    GPU_mem   box_loss   obj_loss   cls_loss  Instances       Size\n",
            "\n",
            "  0%|          | 0/121 [00:00<?, ?it/s]\n",
            "  0%|          | 0/121 [00:57<?, ?it/s]\n",
            "Traceback (most recent call last):\n",
            "  File \"d:\\Projekty\\Magisterka\\Rozpoznawanie-pojazdow\\train.py\", line 848, in <module>\n",
            "    main(opt)\n",
            "  File \"d:\\Projekty\\Magisterka\\Rozpoznawanie-pojazdow\\train.py\", line 623, in main\n",
            "    train(opt.hyp, opt, device, callbacks)\n",
            "  File \"d:\\Projekty\\Magisterka\\Rozpoznawanie-pojazdow\\train.py\", line 390, in train\n",
            "    scaler.scale(loss).backward()\n",
            "  File \"d:\\Programy\\miniforge\\envs\\pytorch-v2\\lib\\site-packages\\comet_ml\\monkey_patching.py\", line 317, in wrapper\n",
            "    raise exception_raised\n",
            "  File \"d:\\Programy\\miniforge\\envs\\pytorch-v2\\lib\\site-packages\\comet_ml\\monkey_patching.py\", line 288, in wrapper\n",
            "    return_value = original(*args, **kwargs)\n",
            "  File \"d:\\Programy\\miniforge\\envs\\pytorch-v2\\lib\\site-packages\\torch\\_tensor.py\", line 522, in backward\n",
            "    torch.autograd.backward(\n",
            "  File \"d:\\Programy\\miniforge\\envs\\pytorch-v2\\lib\\site-packages\\torch\\autograd\\__init__.py\", line 266, in backward\n",
            "    Variable._execution_engine.run_backward(  # Calls into the C++ engine to run the backward pass\n",
            "RuntimeError: CUDA error: the launch timed out and was terminated\n",
            "CUDA kernel errors might be asynchronously reported at some other API call, so the stacktrace below might be incorrect.\n",
            "For debugging consider passing CUDA_LAUNCH_BLOCKING=1.\n",
            "Compile with `TORCH_USE_CUDA_DSA` to enable device-side assertions.\n",
            "\n",
            "COMET INFO: ---------------------------------------------------------------------------------------\n",
            "COMET INFO: Comet.ml Experiment Summary\n",
            "COMET INFO: ---------------------------------------------------------------------------------------\n",
            "COMET INFO:   Data:\n",
            "COMET INFO:     display_summary_level : 1\n",
            "COMET INFO:     url                   : https://www.comet.com/marebak755/yolov5/9eed04a4c5ea4a8296f382e76667f2d8\n",
            "COMET INFO:   Others:\n",
            "COMET INFO:     Created from                : YOLOv5\n",
            "COMET INFO:     Name                        : no_pretrained_cfg_yolov5l_b32_e10_car_det\n",
            "COMET INFO:     Run Path                    : marebak755/yolov5/9eed04a4c5ea4a8296f382e76667f2d8\n",
            "COMET INFO:     comet_log_batch_metrics     : False\n",
            "COMET INFO:     comet_log_confusion_matrix  : True\n",
            "COMET INFO:     comet_log_per_class_metrics : False\n",
            "COMET INFO:     comet_max_image_uploads     : 100\n",
            "COMET INFO:     comet_mode                  : online\n",
            "COMET INFO:     comet_model_name            : yolov5\n",
            "COMET INFO:     hasNestedParams             : True\n",
            "COMET INFO:   Parameters:\n",
            "COMET INFO:     anchor_t            : 4.0\n",
            "COMET INFO:     artifact_alias      : latest\n",
            "COMET INFO:     batch_size          : 32\n",
            "COMET INFO:     bbox_interval       : -1\n",
            "COMET INFO:     box                 : 0.05\n",
            "COMET INFO:     bucket              : \n",
            "COMET INFO:     cls                 : 0.006250000000000001\n",
            "COMET INFO:     cls_pw              : 1.0\n",
            "COMET INFO:     copy_paste          : 0.0\n",
            "COMET INFO:     cos_lr              : False\n",
            "COMET INFO:     degrees             : 0.0\n",
            "COMET INFO:     entity              : None\n",
            "COMET INFO:     evolve              : None\n",
            "COMET INFO:     evolve_population   : data\\hyps\n",
            "COMET INFO:     exist_ok            : False\n",
            "COMET INFO:     fl_gamma            : 0.0\n",
            "COMET INFO:     fliplr              : 0.5\n",
            "COMET INFO:     flipud              : 0.0\n",
            "COMET INFO:     freeze              : [0]\n",
            "COMET INFO:     hsv_h               : 0.015\n",
            "COMET INFO:     hsv_s               : 0.7\n",
            "COMET INFO:     hsv_v               : 0.4\n",
            "COMET INFO:     hyp|anchor_t        : 4.0\n",
            "COMET INFO:     hyp|box             : 0.05\n",
            "COMET INFO:     hyp|cls             : 0.5\n",
            "COMET INFO:     hyp|cls_pw          : 1.0\n",
            "COMET INFO:     hyp|copy_paste      : 0.0\n",
            "COMET INFO:     hyp|degrees         : 0.0\n",
            "COMET INFO:     hyp|fl_gamma        : 0.0\n",
            "COMET INFO:     hyp|fliplr          : 0.5\n",
            "COMET INFO:     hyp|flipud          : 0.0\n",
            "COMET INFO:     hyp|hsv_h           : 0.015\n",
            "COMET INFO:     hyp|hsv_s           : 0.7\n",
            "COMET INFO:     hyp|hsv_v           : 0.4\n",
            "COMET INFO:     hyp|iou_t           : 0.2\n",
            "COMET INFO:     hyp|lr0             : 0.01\n",
            "COMET INFO:     hyp|lrf             : 0.01\n",
            "COMET INFO:     hyp|mixup           : 0.0\n",
            "COMET INFO:     hyp|momentum        : 0.937\n",
            "COMET INFO:     hyp|mosaic          : 1.0\n",
            "COMET INFO:     hyp|obj             : 1.0\n",
            "COMET INFO:     hyp|obj_pw          : 1.0\n",
            "COMET INFO:     hyp|perspective     : 0.0\n",
            "COMET INFO:     hyp|scale           : 0.5\n",
            "COMET INFO:     hyp|shear           : 0.0\n",
            "COMET INFO:     hyp|translate       : 0.1\n",
            "COMET INFO:     hyp|warmup_bias_lr  : 0.1\n",
            "COMET INFO:     hyp|warmup_epochs   : 3.0\n",
            "COMET INFO:     hyp|warmup_momentum : 0.8\n",
            "COMET INFO:     hyp|weight_decay    : 0.0005\n",
            "COMET INFO:     image_weights       : False\n",
            "COMET INFO:     imgsz               : 640\n",
            "COMET INFO:     iou_t               : 0.2\n",
            "COMET INFO:     label_smoothing     : 0.0\n",
            "COMET INFO:     local_rank          : -1\n",
            "COMET INFO:     lr0                 : 0.01\n",
            "COMET INFO:     lrf                 : 0.01\n",
            "COMET INFO:     mixup               : 0.0\n",
            "COMET INFO:     momentum            : 0.937\n",
            "COMET INFO:     mosaic              : 1.0\n",
            "COMET INFO:     multi_scale         : False\n",
            "COMET INFO:     ndjson_console      : False\n",
            "COMET INFO:     ndjson_file         : False\n",
            "COMET INFO:     noautoanchor        : False\n",
            "COMET INFO:     noplots             : False\n",
            "COMET INFO:     nosave              : False\n",
            "COMET INFO:     noval               : False\n",
            "COMET INFO:     obj                 : 1.0\n",
            "COMET INFO:     obj_pw              : 1.0\n",
            "COMET INFO:     optimizer           : SGD\n",
            "COMET INFO:     patience            : 100\n",
            "COMET INFO:     perspective         : 0.0\n",
            "COMET INFO:     project             : runs\\train\n",
            "COMET INFO:     quad                : False\n",
            "COMET INFO:     rect                : False\n",
            "COMET INFO:     resume              : False\n",
            "COMET INFO:     resume_evolve       : None\n",
            "COMET INFO:     save_dir            : runs\\train\\no_pretrained_cfg_yolov5l_b32_e10_car_det\n",
            "COMET INFO:     save_period         : -1\n",
            "COMET INFO:     scale               : 0.5\n",
            "COMET INFO:     seed                : 0\n",
            "COMET INFO:     shear               : 0.0\n",
            "COMET INFO:     single_cls          : False\n",
            "COMET INFO:     sync_bn             : False\n",
            "COMET INFO:     translate           : 0.1\n",
            "COMET INFO:     upload_dataset      : False\n",
            "COMET INFO:     val_conf_threshold  : 0.001\n",
            "COMET INFO:     val_iou_threshold   : 0.6\n",
            "COMET INFO:     warmup_bias_lr      : 0.1\n",
            "COMET INFO:     warmup_epochs       : 3.0\n",
            "COMET INFO:     warmup_momentum     : 0.8\n",
            "COMET INFO:     weight_decay        : 0.0005\n",
            "COMET INFO:   Uploads:\n",
            "COMET INFO:     asset                        : 5 (423.16 KB)\n",
            "COMET INFO:     conda-environment-definition : 1\n",
            "COMET INFO:     conda-info                   : 1\n",
            "COMET INFO:     conda-specification          : 1\n",
            "COMET INFO:     environment details          : 1\n",
            "COMET INFO:     git metadata                 : 1\n",
            "COMET INFO:     installed packages           : 1\n",
            "COMET INFO: \n"
          ]
        }
      ],
      "source": [
        "# Trenowanie danych\n",
        "!python train.py --img 640 --batch 32  --epochs 10 --data car_data.yaml --weights '' --cfg models/yolov5l.yaml --workers 0 --cache --name no_pretrained_cfg_yolov5l_b32_e10_car_det --device 0"
      ]
    },
    {
      "cell_type": "code",
      "execution_count": null,
      "metadata": {
        "id": "zR9ZbuQCH7FX"
      },
      "outputs": [],
      "source": [
        "!python detect.py --source datasets/car_dataset/test/images/ --weights runs/train/no_pretrained_b32_e10_car_det/weights/best.pt --conf 0.25 --save-txt --name no_pretrained_b32_e10_car_det"
      ]
    },
    {
      "cell_type": "code",
      "execution_count": null,
      "metadata": {
        "id": "X58w8JLpMnjH"
      },
      "outputs": [],
      "source": [
        "# Validate YOLOv5s on COCO val\n",
        "!python val.py --weights runs/train/yolov5s_b32_e3_car_det10/weights/best.pt --data data/car_data.yaml --img 640 --half --name yolov5s_b32_e3_car_det"
      ]
    },
    {
      "cell_type": "code",
      "execution_count": 3,
      "metadata": {},
      "outputs": [
        {
          "name": "stdout",
          "output_type": "stream",
          "text": [
            "Liczba boundingbox w zbiorze testowym: 217\n",
            "Liczba boundingbox wykryta przez algorytm po detekcji: 247\n",
            "Liczba błędnie rozpoznanych bounding-boxów: 41\n",
            "Liczba błędów rozpoznanmych bounding-boxów (%): 18.89400921658986%\n",
            "Średnia wartość iou na cały zbiór: 0.7507670575256732\n"
          ]
        }
      ],
      "source": [
        "# Obliczenie ilości bounding-boxów względem zdjęć testowych\n",
        "!python cal_pred_qual.py --tlds datasets/car_dataset/test/labels --dlds runs/detect/no_pretrained_b32_e10_car_det/labels"
      ]
    },
    {
      "cell_type": "markdown",
      "metadata": {
        "id": "6Qu7Iesl0p54"
      },
      "source": [
        "# Status\n",
        "\n",
        "![YOLOv5 CI](https://github.com/ultralytics/yolov5/actions/workflows/ci-testing.yml/badge.svg)\n",
        "\n",
        "If this badge is green, all [YOLOv5 GitHub Actions](https://github.com/ultralytics/yolov5/actions) Continuous Integration (CI) tests are currently passing. CI tests verify correct operation of YOLOv5 training ([train.py](https://github.com/ultralytics/yolov5/blob/master/train.py)), testing ([val.py](https://github.com/ultralytics/yolov5/blob/master/val.py)), inference ([detect.py](https://github.com/ultralytics/yolov5/blob/master/detect.py)) and export ([export.py](https://github.com/ultralytics/yolov5/blob/master/export.py)) on macOS, Windows, and Ubuntu every 24 hours and on every commit.\n"
      ]
    }
  ],
  "metadata": {
    "accelerator": "GPU",
    "colab": {
      "provenance": []
    },
    "kernelspec": {
      "display_name": "Python 3",
      "name": "python3"
    },
    "language_info": {
      "codemirror_mode": {
        "name": "ipython",
        "version": 3
      },
      "file_extension": ".py",
      "mimetype": "text/x-python",
      "name": "python",
      "nbconvert_exporter": "python",
      "pygments_lexer": "ipython3",
      "version": "3.10.13"
    }
  },
  "nbformat": 4,
  "nbformat_minor": 0
}
